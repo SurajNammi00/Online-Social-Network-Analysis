{
 "cells": [
  {
   "cell_type": "code",
   "execution_count": 1,
   "id": "3abc5998",
   "metadata": {},
   "outputs": [],
   "source": [
    "import re\n",
    "import neattext as nt\n",
    "import nltk\n",
    "import string\n",
    "from nltk.corpus import stopwords\n",
    "import pandas as pd     \n",
    "import seaborn as sns  \n",
    "from sklearn.preprocessing import LabelEncoder\n",
    "from sklearn.model_selection import train_test_split\n",
    "from sklearn.ensemble import RandomForestClassifier\n",
    "from sklearn.metrics import accuracy_score\n",
    "import matplotlib\n",
    "import matplotlib.pyplot as plt"
   ]
  },
  {
   "cell_type": "code",
   "execution_count": 2,
   "id": "075728de",
   "metadata": {},
   "outputs": [],
   "source": [
    "df_traindata = pd.read_csv('C:/Masters/CS579/Project 2/files/train.csv')\n",
    "df_testdata = pd.read_csv('C:/Masters/CS579/Project 2/files/test.csv')"
   ]
  },
  {
   "cell_type": "code",
   "execution_count": 3,
   "id": "ed37ddae",
   "metadata": {},
   "outputs": [
    {
     "name": "stdout",
     "output_type": "stream",
     "text": [
      "Histogram of Label in Training Data\n"
     ]
    },
    {
     "data": {
      "text/plain": [
       "<AxesSubplot:>"
      ]
     },
     "execution_count": 3,
     "metadata": {},
     "output_type": "execute_result"
    },
    {
     "data": {
      "image/png": "[encoded data removed]",
      "text/plain": [
       "<Figure size 432x288 with 1 Axes>"
      ]
     },
     "metadata": {
      "needs_background": "light"
     },
     "output_type": "display_data"
    }
   ],
   "source": [
    "print(\"Histogram of Label in Training Data\")\n",
    "df_traindata['label'].hist()"
   ]
  },
  {
   "cell_type": "code",
   "execution_count": 4,
   "id": "0e621d52",
   "metadata": {},
   "outputs": [
    {
     "name": "stdout",
     "output_type": "stream",
     "text": [
      "Value counts of labels in Training Data\n"
     ]
    },
    {
     "data": {
      "text/plain": [
       "unrelated    175598\n",
       "agreed        74238\n",
       "disagreed      6606\n",
       "Name: label, dtype: int64"
      ]
     },
     "execution_count": 4,
     "metadata": {},
     "output_type": "execute_result"
    }
   ],
   "source": [
    "print(\"Value counts of labels in Training Data\")\n",
    "df_traindata['label'].value_counts()"
   ]
  },
  {
   "cell_type": "markdown",
   "id": "81af7c4d",
   "metadata": {},
   "source": [
    "Data Pre-Processing"
   ]
  },
  {
   "cell_type": "code",
   "execution_count": 5,
   "id": "08e6abe1",
   "metadata": {},
   "outputs": [],
   "source": [
    "df_traindata['NEWS']=df_traindata.title1_en+' '+df_traindata.title2_en\n",
    "df_testdata['NEWS']=df_testdata.title1_en+' '+df_testdata.title2_en"
   ]
  },
  {
   "cell_type": "code",
   "execution_count": 6,
   "id": "f07289cf",
   "metadata": {},
   "outputs": [
    {
     "name": "stdout",
     "output_type": "stream",
     "text": [
      "After converting to lower case \n",
      " 0    there are two new old-age insurance benefits f...\n",
      "1    \"if you do not come to shenzhen, sooner or lat...\n",
      "2    \"if you do not come to shenzhen, sooner or lat...\n",
      "3    \"if you do not come to shenzhen, sooner or lat...\n",
      "4    \"if you do not come to shenzhen, sooner or lat...\n",
      "Name: NEWS, dtype: object\n",
      "After converting to lower case \n",
      " 0    the great coat brother zhu zhu wen, in the man...\n",
      "1    nasa reveals facts about ufo wreckage found on...\n",
      "2    the hollow tomatoes are loaded with hormones. ...\n",
      "3    ange pavilion geoshui: how accurate is matrimo...\n",
      "4    a 50-year-old bus-bus blows up an 8-year-old c...\n",
      "Name: NEWS, dtype: object\n",
      "After converting with stop words case \n",
      " 0    new old-age insurance benefits old people rura...\n",
      "1    \"if come shenzhen, sooner later son come.\" 10 ...\n",
      "2    \"if come shenzhen, sooner later son come.\" 10 ...\n",
      "3    \"if come shenzhen, sooner later son come.\" 10 ...\n",
      "4    \"if come shenzhen, sooner later son come.\" 10 ...\n",
      "Name: NEWS, dtype: object\n",
      "After converting with stop words case \n",
      " 0    great coat brother zhu zhu wen, mandarin love ...\n",
      "1    nasa reveals facts ufo wreckage found moon. uf...\n",
      "2    hollow tomatoes loaded hormones. li chenfan bi...\n",
      "3    ange pavilion geoshui: accurate matrimony matc...\n",
      "4    50-year-old bus-bus blows 8-year-old child. ru...\n",
      "Name: NEWS, dtype: object\n",
      "After removing punctations and symbols \n",
      " 0    new old-age insurance benefits old people rura...\n",
      "1    if come shenzhen sooner later son come 10 year...\n",
      "2    if come shenzhen sooner later son come 10 year...\n",
      "3    if come shenzhen sooner later son come 10 year...\n",
      "4    if come shenzhen sooner later son come 10 year...\n",
      "Name: NEWS, dtype: object\n",
      "After removing punctations and symbols \n",
      " 0    great coat brother zhu zhu wen mandarin love s...\n",
      "1    nasa reveals facts ufo wreckage found moon ufo...\n",
      "2    hollow tomatoes loaded hormones li chenfan bin...\n",
      "3    ange pavilion geoshui accurate matrimony match...\n",
      "4    50-year-old bus-bus blows 8-year-old child rum...\n",
      "Name: NEWS, dtype: object\n"
     ]
    }
   ],
   "source": [
    "stop_words = stopwords.words(\"english\")\n",
    "df_traindata['NEWS'] = df_traindata['NEWS'].str.lower()\n",
    "print('After converting to lower case \\n',df_traindata['NEWS'].head())\n",
    "df_testdata['NEWS'] = df_testdata['NEWS'].str.lower()\n",
    "print('After converting to lower case \\n',df_testdata['NEWS'].head())\n",
    "df_traindata['NEWS'] = df_traindata['NEWS'].apply(lambda x:nt.remove_stopwords(x))\n",
    "print('After converting with stop words case \\n',df_traindata['NEWS'].head())\n",
    "df_testdata['NEWS'] = df_testdata['NEWS'].apply(lambda x:nt.remove_stopwords(x))\n",
    "print('After converting with stop words case \\n',df_testdata['NEWS'].head())\n",
    "asci_dec=lambda x: x.encode('ascii', 'ignore').decode()\n",
    "df_traindata['NEWS']=df_traindata['NEWS'].apply(asci_dec)\n",
    "df_testdata['NEWS']=df_testdata['NEWS'].apply(asci_dec)\n",
    "df_traindata['NEWS'] = df_traindata['NEWS'].str.replace(re.compile('[!@#$%^&*()_+{}:\"<>?,./]'), '')\n",
    "print('After removing punctations and symbols \\n',df_traindata['NEWS'].head())\n",
    "df_testdata['NEWS'] = df_testdata['NEWS'].str.replace(re.compile('[!@#$%^&*()_+{}:\"<>?,./]'), '')\n",
    "print('After removing punctations and symbols \\n',df_testdata['NEWS'].head())\n"
   ]
  },
  {
   "cell_type": "code",
   "execution_count": 7,
   "id": "9c9ea93f",
   "metadata": {},
   "outputs": [],
   "source": [
    "X=df_traindata.NEWS\n",
    "y=df_traindata.label"
   ]
  },
  {
   "cell_type": "code",
   "execution_count": 10,
   "id": "b19c6943",
   "metadata": {},
   "outputs": [
    {
     "name": "stdout",
     "output_type": "stream",
     "text": [
      "Length of Training NEWS Data:  205153\n",
      "Length of Testing NEWS Data:  51289\n",
      "Length of Training LABEL Data:  205153\n",
      "Length of Testing LABEL Data:  51289\n"
     ]
    }
   ],
   "source": [
    "X_train, X_test, y_train, y_test = train_test_split(X, y, test_size=0.2, random_state=42)\n",
    "print(\"Length of Training NEWS Data: \",len(X_train))\n",
    "print(\"Length of Testing NEWS Data: \",len(X_test))\n",
    "print(\"Length of Training LABEL Data: \",len(y_train))\n",
    "print(\"Length of Testing LABEL Data: \",len(y_test))"
   ]
  },
  {
   "cell_type": "code",
   "execution_count": 11,
   "id": "0fd84fa3",
   "metadata": {},
   "outputs": [],
   "source": [
    "from sklearn.feature_extraction.text import TfidfVectorizer\n",
    "vectorizer = TfidfVectorizer(stop_words='english', max_features=5000)\n",
    "X_train = vectorizer.fit_transform(X_train)\n",
    "X_test = vectorizer.transform(X_test)\n"
   ]
  },
  {
   "cell_type": "code",
   "execution_count": 12,
   "id": "beb03308",
   "metadata": {},
   "outputs": [
    {
     "data": {
      "text/plain": [
       "RandomForestClassifier(random_state=42)"
      ]
     },
     "execution_count": 12,
     "metadata": {},
     "output_type": "execute_result"
    }
   ],
   "source": [
    "model= RandomForestClassifier(n_estimators=100, random_state=42)\n",
    "model.fit(X_train,y_train)"
   ]
  },
  {
   "cell_type": "code",
   "execution_count": 65,
   "id": "fe15ecf1",
   "metadata": {},
   "outputs": [
    {
     "name": "stdout",
     "output_type": "stream",
     "text": [
      "Validations for Random Forest Classifier:\n",
      "\n",
      "Length of predicated values\n",
      "51289\n",
      "The accuracy of Random Forest Model\n",
      "Accuracy: 0.8483105539199438\n",
      "Classificaiton Reports: \n",
      "               precision    recall  f1-score   support\n",
      "\n",
      "      agreed       0.82      0.69      0.75     14813\n",
      "   disagreed       0.78      0.27      0.40      1321\n",
      "   unrelated       0.86      0.93      0.89     35155\n",
      "\n",
      "    accuracy                           0.85     51289\n",
      "   macro avg       0.82      0.63      0.68     51289\n",
      "weighted avg       0.85      0.85      0.84     51289\n",
      "\n"
     ]
    }
   ],
   "source": [
    "from sklearn import metrics\n",
    "print(\"Validations for Random Forest Classifier:\\n\")\n",
    "print('Length of predicated values')\n",
    "y_pred=model.predict(X_test)\n",
    "print(len(y_pred))\n",
    "print(\"The accuracy of Random Forest Model\")\n",
    "accuracy = accuracy_score(y_test, y_pred)\n",
    "print(\"Accuracy:\", accuracy)\n",
    "print(\"Classificaiton Reports: \\n\",metrics.classification_report(y_test,y_pred))"
   ]
  },
  {
   "cell_type": "code",
   "execution_count": 14,
   "id": "85c4b7c8",
   "metadata": {},
   "outputs": [
    {
     "name": "stdout",
     "output_type": "stream",
     "text": [
      "Predicting the values of label for Test Data\n"
     ]
    }
   ],
   "source": [
    "print(\"Predicting the values of label for Test Data\")\n",
    "A=df_testdata.NEWS\n",
    "test_x= vectorizer.transform(A)\n",
    "y_predict=model.predict(test_x)\n",
    "df_1=pd.DataFrame(y_predict)"
   ]
  },
  {
   "cell_type": "code",
   "execution_count": 19,
   "id": "b78db4d8",
   "metadata": {},
   "outputs": [
    {
     "name": "stdout",
     "output_type": "stream",
     "text": [
      "Histogram of Label values in Testing Data predicted by Random Forest Model \n",
      "\n",
      "  Count of Each Labels \n",
      "\n"
     ]
    },
    {
     "data": {
      "text/plain": [
       "unrelated    47612\n",
       "agreed       15961\n",
       "disagreed      537\n",
       "Name: 0, dtype: int64"
      ]
     },
     "execution_count": 19,
     "metadata": {},
     "output_type": "execute_result"
    },
    {
     "data": {
      "image/png": "[encoded data removed]",
      "text/plain": [
       "<Figure size 432x288 with 1 Axes>"
      ]
     },
     "metadata": {
      "needs_background": "light"
     },
     "output_type": "display_data"
    }
   ],
   "source": [
    "print(\"Histogram of Label values in Testing Data predicted by Random Forest Model \")\n",
    "df_1[0].hist()\n",
    "print(\"\\n  Count of Each Labels \\n\")\n",
    "df_1[0].value_counts()"
   ]
  },
  {
   "cell_type": "code",
   "execution_count": 30,
   "id": "a2f280f1",
   "metadata": {},
   "outputs": [
    {
     "name": "stdout",
     "output_type": "stream",
     "text": [
      "Sample of submission.csv file\n"
     ]
    },
    {
     "data": {
      "text/html": [
       "<div>\n",
       "<style scoped>\n",
       "    .dataframe tbody tr th:only-of-type {\n",
       "        vertical-align: middle;\n",
       "    }\n",
       "\n",
       "    .dataframe tbody tr th {\n",
       "        vertical-align: top;\n",
       "    }\n",
       "\n",
       "    .dataframe thead th {\n",
       "        text-align: right;\n",
       "    }\n",
       "</style>\n",
       "<table border=\"1\" class=\"dataframe\">\n",
       "  <thead>\n",
       "    <tr style=\"text-align: right;\">\n",
       "      <th></th>\n",
       "      <th>id</th>\n",
       "      <th>label</th>\n",
       "    </tr>\n",
       "  </thead>\n",
       "  <tbody>\n",
       "    <tr>\n",
       "      <th>0</th>\n",
       "      <td>256442</td>\n",
       "      <td>agreed</td>\n",
       "    </tr>\n",
       "    <tr>\n",
       "      <th>1</th>\n",
       "      <td>256443</td>\n",
       "      <td>unrelated</td>\n",
       "    </tr>\n",
       "    <tr>\n",
       "      <th>2</th>\n",
       "      <td>256444</td>\n",
       "      <td>unrelated</td>\n",
       "    </tr>\n",
       "    <tr>\n",
       "      <th>3</th>\n",
       "      <td>256445</td>\n",
       "      <td>unrelated</td>\n",
       "    </tr>\n",
       "    <tr>\n",
       "      <th>4</th>\n",
       "      <td>256446</td>\n",
       "      <td>unrelated</td>\n",
       "    </tr>\n",
       "    <tr>\n",
       "      <th>...</th>\n",
       "      <td>...</td>\n",
       "      <td>...</td>\n",
       "    </tr>\n",
       "    <tr>\n",
       "      <th>64105</th>\n",
       "      <td>320547</td>\n",
       "      <td>unrelated</td>\n",
       "    </tr>\n",
       "    <tr>\n",
       "      <th>64106</th>\n",
       "      <td>320548</td>\n",
       "      <td>unrelated</td>\n",
       "    </tr>\n",
       "    <tr>\n",
       "      <th>64107</th>\n",
       "      <td>320549</td>\n",
       "      <td>agreed</td>\n",
       "    </tr>\n",
       "    <tr>\n",
       "      <th>64108</th>\n",
       "      <td>320550</td>\n",
       "      <td>unrelated</td>\n",
       "    </tr>\n",
       "    <tr>\n",
       "      <th>64109</th>\n",
       "      <td>320551</td>\n",
       "      <td>unrelated</td>\n",
       "    </tr>\n",
       "  </tbody>\n",
       "</table>\n",
       "<p>64110 rows × 2 columns</p>\n",
       "</div>"
      ],
      "text/plain": [
       "           id      label\n",
       "0      256442     agreed\n",
       "1      256443  unrelated\n",
       "2      256444  unrelated\n",
       "3      256445  unrelated\n",
       "4      256446  unrelated\n",
       "...       ...        ...\n",
       "64105  320547  unrelated\n",
       "64106  320548  unrelated\n",
       "64107  320549     agreed\n",
       "64108  320550  unrelated\n",
       "64109  320551  unrelated\n",
       "\n",
       "[64110 rows x 2 columns]"
      ]
     },
     "execution_count": 30,
     "metadata": {},
     "output_type": "execute_result"
    }
   ],
   "source": [
    "test_res=pd.DataFrame({\"id\": df_testdata.id, \"label\": y_predict},)\n",
    "test_res.to_csv('submission.csv',index=False)\n",
    "print(\"Sample of submission.csv file\")\n",
    "test_res"
   ]
  },
  {
   "cell_type": "code",
   "execution_count": 31,
   "id": "3f8defb8",
   "metadata": {},
   "outputs": [
    {
     "name": "stdout",
     "output_type": "stream",
     "text": [
      "Training the Data for Multinominal Distribution\n"
     ]
    }
   ],
   "source": [
    "print(\"Training the Data for Multinominal Distribution\")\n",
    "X_train, X_test, y_train, y_test = train_test_split(X, y, test_size=0.2, random_state=42)"
   ]
  },
  {
   "cell_type": "code",
   "execution_count": 32,
   "id": "53339f3e",
   "metadata": {},
   "outputs": [],
   "source": [
    "vectorizer = TfidfVectorizer(stop_words='english', max_features=5000)\n",
    "X_train = vectorizer.fit_transform(X_train)\n",
    "X_test = vectorizer.transform(X_test)"
   ]
  },
  {
   "cell_type": "code",
   "execution_count": 63,
   "id": "0663bdbf",
   "metadata": {},
   "outputs": [],
   "source": [
    "from sklearn.naive_bayes import MultinomialNB\n",
    "model1=MultinomialNB()\n",
    "model1.fit(X_train,y_train)\n",
    "y_pred = model1.predict(X_test)"
   ]
  },
  {
   "cell_type": "code",
   "execution_count": 64,
   "id": "ee6f243a",
   "metadata": {},
   "outputs": [
    {
     "name": "stdout",
     "output_type": "stream",
     "text": [
      "Validations for Naïve Bayes Model:\n",
      "\n",
      "The accuracy of Naïve Bayes Model \n",
      "0.7300395796369592\n",
      "Classificaiton Reports: \n",
      "               precision    recall  f1-score   support\n",
      "\n",
      "      agreed       0.63      0.35      0.45     14813\n",
      "   disagreed       0.65      0.12      0.21      1321\n",
      "   unrelated       0.75      0.91      0.82     35155\n",
      "\n",
      "    accuracy                           0.73     51289\n",
      "   macro avg       0.68      0.46      0.49     51289\n",
      "weighted avg       0.71      0.73      0.70     51289\n",
      "\n"
     ]
    }
   ],
   "source": [
    "from sklearn import metrics\n",
    "print(\"Validations for Naïve Bayes Model:\\n\")\n",
    "print(\"The accuracy of Naïve Bayes Model \")\n",
    "acc = accuracy_score(y_test, y_pred)\n",
    "print(acc)\n",
    "print(\"Classificaiton Reports: \\n\",metrics.classification_report(y_test,y_pred))"
   ]
  },
  {
   "cell_type": "code",
   "execution_count": 40,
   "id": "0e798ee4",
   "metadata": {},
   "outputs": [
    {
     "name": "stdout",
     "output_type": "stream",
     "text": [
      "Predicting the values of label for Test Data\n",
      "\n",
      "  Count of Each Labels \n",
      "\n"
     ]
    },
    {
     "data": {
      "text/plain": [
       "unrelated    53306\n",
       "agreed       10453\n",
       "disagreed      351\n",
       "Name: 0, dtype: int64"
      ]
     },
     "execution_count": 40,
     "metadata": {},
     "output_type": "execute_result"
    },
    {
     "data": {
      "image/png": "[encoded data removed]",
      "text/plain": [
       "<Figure size 432x288 with 1 Axes>"
      ]
     },
     "metadata": {
      "needs_background": "light"
     },
     "output_type": "display_data"
    }
   ],
   "source": [
    "print(\"Predicting the values of label for Test Data\")\n",
    "B=df_testdata.NEWS\n",
    "test_x= vectorizer.transform(B)\n",
    "y_predict=model1.predict(test_x)\n",
    "df_2=pd.DataFrame(y_predict)\n",
    "df_2[0].hist()\n",
    "print(\"\\n  Count of Each Labels \\n\")\n",
    "df_2[0].value_counts()"
   ]
  },
  {
   "cell_type": "code",
   "execution_count": 46,
   "id": "f7f446e9",
   "metadata": {},
   "outputs": [
    {
     "name": "stdout",
     "output_type": "stream",
     "text": [
      "Training the Data for Decision Tree Classifier Model\n"
     ]
    }
   ],
   "source": [
    "print('Training the Data for Decision Tree Classifier Model')\n",
    "from sklearn.tree import DecisionTreeClassifier\n",
    "X_train, X_test, y_train, y_test = train_test_split(X, y, test_size=0.2, random_state=42)\n"
   ]
  },
  {
   "cell_type": "code",
   "execution_count": 47,
   "id": "e9115d76",
   "metadata": {},
   "outputs": [],
   "source": [
    "vectorizer = TfidfVectorizer(stop_words='english', max_features=5000)\n",
    "X_train = vectorizer.fit_transform(X_train)\n",
    "X_test = vectorizer.transform(X_test)"
   ]
  },
  {
   "cell_type": "code",
   "execution_count": 49,
   "id": "f4d37013",
   "metadata": {},
   "outputs": [
    {
     "name": "stdout",
     "output_type": "stream",
     "text": [
      "The accuracy of Desicion Tree Classifier Model \n",
      "0.7785880013258204\n"
     ]
    }
   ],
   "source": [
    "model2= DecisionTreeClassifier(random_state=42)\n",
    "model2.fit(X_train, y_train)\n",
    "y_pred = model2.predict(X_test)\n"
   ]
  },
  {
   "cell_type": "code",
   "execution_count": 61,
   "id": "ee371471",
   "metadata": {},
   "outputs": [
    {
     "name": "stdout",
     "output_type": "stream",
     "text": [
      "Validations for Desicion Tree Classifier:\n",
      "\n",
      "The accuracy of Desicion Tree Classifier Model \n",
      "0.7785880013258204\n",
      "Classificaiton Reports: \n",
      "               precision    recall  f1-score   support\n",
      "\n",
      "      agreed       0.66      0.67      0.67     14813\n",
      "   disagreed       0.40      0.38      0.39      1321\n",
      "   unrelated       0.84      0.84      0.84     35155\n",
      "\n",
      "    accuracy                           0.78     51289\n",
      "   macro avg       0.64      0.63      0.63     51289\n",
      "weighted avg       0.78      0.78      0.78     51289\n",
      "\n"
     ]
    }
   ],
   "source": [
    "from sklearn import metrics\n",
    "print(\"Validations for Desicion Tree Classifier:\\n\")\n",
    "print(\"The accuracy of Desicion Tree Classifier Model \")\n",
    "acc2 = accuracy_score(y_test, y_pred)\n",
    "print(acc2)\n",
    "print(\"Classificaiton Reports: \\n\",metrics.classification_report(y_test,y_pred))"
   ]
  },
  {
   "cell_type": "code",
   "execution_count": 50,
   "id": "0112d606",
   "metadata": {},
   "outputs": [
    {
     "name": "stdout",
     "output_type": "stream",
     "text": [
      "Predicting the values of label for Test Data\n",
      "\n",
      "  Count of Each Labels \n",
      "\n"
     ]
    },
    {
     "data": {
      "text/plain": [
       "unrelated    43705\n",
       "agreed       18891\n",
       "disagreed     1514\n",
       "Name: 0, dtype: int64"
      ]
     },
     "execution_count": 50,
     "metadata": {},
     "output_type": "execute_result"
    },
    {
     "data": {
      "image/png": "[encoded data removed]",
      "text/plain": [
       "<Figure size 432x288 with 1 Axes>"
      ]
     },
     "metadata": {
      "needs_background": "light"
     },
     "output_type": "display_data"
    }
   ],
   "source": [
    "print(\"Predicting the values of label for Test Data\")\n",
    "C=df_testdata.NEWS\n",
    "test_x= vectorizer.transform(C)\n",
    "y_predict=model2.predict(test_x)\n",
    "df_3=pd.DataFrame(y_predict)\n",
    "df_3[0].hist()\n",
    "print(\"\\n  Count of Each Labels \\n\")\n",
    "df_3[0].value_counts()"
   ]
  },
  {
   "cell_type": "code",
   "execution_count": 51,
   "id": "c6eff442",
   "metadata": {},
   "outputs": [
    {
     "name": "stdout",
     "output_type": "stream",
     "text": [
      "We have calculated accuracy of three models\n",
      "1.Accuracy of Random Forest Classifier : 0.8483105539199438\n",
      "2.Accuracy of Multinominal Distribution : 0.7300395796369592\n",
      "3.Accuracy of Desicion Tree Classifier : 0.7785880013258204\n"
     ]
    }
   ],
   "source": [
    "print(\"We have calculated accuracy of three models\")\n",
    "print(\"1.Accuracy of Random Forest Classifier :\",accuracy)\n",
    "print(\"2.Accuracy of Multinominal Distribution :\",acc)\n",
    "print(\"3.Accuracy of Desicion Tree Classifier :\",acc2)"
   ]
  },
  {
   "cell_type": "code",
   "execution_count": 52,
   "id": "c9ba2182",
   "metadata": {},
   "outputs": [
    {
     "data": {
      "image/png": "[encoded data removed]",
      "text/plain": [
       "<Figure size 432x288 with 1 Axes>"
      ]
     },
     "metadata": {},
     "output_type": "display_data"
    }
   ],
   "source": [
    "data = [accuracy, acc, acc2]\n",
    "labels = ['Random Forest Classifier', 'Multinominal Distribution', 'Desicion Tree Classifier']\n",
    "colors = sns.color_palette('pastel')[0:5]\n",
    "plt.pie(data, labels = labels, colors = colors, autopct='%.0f%%')\n",
    "plt.show()"
   ]
  },
  {
   "cell_type": "code",
   "execution_count": 53,
   "id": "d7d9e62d",
   "metadata": {},
   "outputs": [
    {
     "data": {
      "image/png": "[encoded data removed]",
      "text/plain": [
       "<Figure size 432x288 with 1 Axes>"
      ]
     },
     "metadata": {
      "needs_background": "light"
     },
     "output_type": "display_data"
    }
   ],
   "source": [
    "plt.bar(['Random Forest Classifier', 'Multinomial Distribution', 'Desicion Tree Classifer'], [accuracy,acc,acc2])\n",
    "plt.xlabel('Models')\n",
    "plt.ylabel('Values')\n",
    "plt.title('Bar chart')\n",
    "plt.show()"
   ]
  }
 ],
 "metadata": {
  "kernelspec": {
   "display_name": "Python 3 (ipykernel)",
   "language": "python",
   "name": "python3"
  },
  "language_info": {
   "codemirror_mode": {
    "name": "ipython",
    "version": 3
   },
   "file_extension": ".py",
   "mimetype": "text/x-python",
   "name": "python",
   "nbconvert_exporter": "python",
   "pygments_lexer": "ipython3",
   "version": "3.9.12"
  }
 },
 "nbformat": 4,
 "nbformat_minor": 5
}
